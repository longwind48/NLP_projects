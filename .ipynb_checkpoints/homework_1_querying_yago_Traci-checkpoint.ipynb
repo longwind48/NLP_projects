{
 "cells": [
  {
   "cell_type": "markdown",
   "metadata": {
    "deletable": true,
    "editable": true
   },
   "source": [
    "# ST446 Distributed Computing for Big Data\n",
    "## Homework\n",
    "### Milan Vojnovic and Christine Yuen, LT 2018\n",
    "---\n",
    "\n",
    "\n",
    "## P1: Querying YAGO semantic knowledge base\n",
    "\n",
    "YAGO is a semantic knowledge base, derived from Wikipedia WordNet and GeoNames. YAGO contains knowledge about more than 10 million entities (like persons, organizations and cities) and contains more than 120 million facts about these entities. \n",
    "\n",
    "You may find more about YAGO [here](https://www.mpi-inf.mpg.de/departments/databases-and-information-systems/research/yago-naga/yago/#c10444).\n",
    "\n",
    "In this homework assignment you are asked to use this dataset to demonstrate your knowledge about Spark graphframes and motif queries. In particular, you are asked to **_use motif queries_** to find out answers to the following queries stated in English language:\n",
    "1. Politicians who are also scientists\n",
    "2. Companies whose founders were born in London\n",
    "3. Writers who have won a Nobel Prize (in any discipline)\n",
    "4. Nobel prize winners who were born in the same city as their spouses   "
   ]
  },
  {
   "cell_type": "markdown",
   "metadata": {
    "deletable": true,
    "editable": true
   },
   "source": [
    "## 0.1 Get YAGO data\n",
    "\n",
    "You may download the whole YAGO dataset from here https://www.mpi-inf.mpg.de/departments/databases-and-information-systems/research/yago-naga/yago/downloads/, but it size is 170GB. Instead, we advise you to access the database hosted on an LSE server.\n",
    "\n",
    "### Connecting to the YAGO database hosted on an LSE server\n",
    "\n",
    "You can connect to the database if you are onsite and have a wired connection or are logged in the eduroam wifi service.  \n",
    "\n",
    "To connect to the database offsite, first connect to the LSE network using the Pulse Secure client. Details on how to install and use Pulse Secure are available from:\n",
    "\n",
    "http://www.lse.ac.uk/intranet/LSEServices/IMT/guides/workingOffCampus/installing-pulse.aspx\n",
    "\n",
    "The Pulse Secure service is known to work well for Mac and Windows users.\n",
    "\n",
    "\n",
    "### Download the postgresql JDBC driver\n",
    "\n",
    "Download the driver from here https://jdbc.postgresql.org/download.html. You need to tell Spark where the driver is by either:\n",
    "* updating `spark-defaults.conf` file by adding `spark.jars [path_to_the_jar_file]`\n",
    "* adding as argument when you run Spark `pyspark --jars [path_to_the_jar_file]`\n"
   ]
  },
  {
   "cell_type": "markdown",
   "metadata": {
    "deletable": true,
    "editable": true
   },
   "source": [
    "## 0.2 Read the data into Spark"
   ]
  },
  {
   "cell_type": "code",
   "execution_count": 1,
   "metadata": {
    "collapsed": true,
    "deletable": true,
    "editable": true
   },
   "outputs": [],
   "source": [
    "from pyspark.sql import DataFrameReader\n",
    "from pyspark.sql.types import *\n",
    "\n",
    "url = 'postgresql://hpc-db-yago.lse.ac.uk:15435/yago?ssl=true&sslfactory=org.postgresql.ssl.NonValidatingFactory'\n",
    "properties = {'user': 'yago', 'password': 'Zaeda1dah6eiTahghaeph', \"driver\": \"org.postgresql.Driver\"}\n",
    "df = sqlContext.read.jdbc(\n",
    "    url='jdbc:%s' % url, table='yagofacts', properties=properties\n",
    ")"
   ]
  },
  {
   "cell_type": "markdown",
   "metadata": {
    "deletable": true,
    "editable": true
   },
   "source": [
    "## 0.3 Understand the database schema\n",
    "\n",
    "Let's look at the schema:"
   ]
  },
  {
   "cell_type": "code",
   "execution_count": 2,
   "metadata": {
    "collapsed": false,
    "deletable": true,
    "editable": true
   },
   "outputs": [
    {
     "name": "stdout",
     "output_type": "stream",
     "text": [
      "root\n",
      " |-- id: string (nullable = true)\n",
      " |-- subject: string (nullable = true)\n",
      " |-- predicate: string (nullable = true)\n",
      " |-- object: string (nullable = true)\n",
      " |-- value: double (nullable = true)\n",
      "\n"
     ]
    }
   ],
   "source": [
    "df.printSchema()"
   ]
  },
  {
   "cell_type": "markdown",
   "metadata": {
    "deletable": true,
    "editable": true
   },
   "source": [
    "The useful information is in columns \"subject\", \"predicate\" and \"object\". \"predicate\" defines the relation between entities \"subject\" and \"object\". For example, for \"Albert Einstein was born in Ulm\", \"Albert Einstein\" is the subject, \"was born in\" is the predicate and \"Ulm\" is the object."
   ]
  },
  {
   "cell_type": "markdown",
   "metadata": {
    "deletable": true,
    "editable": true
   },
   "source": [
    "## 0.4 Simple query example\n",
    "\n",
    "To get information about where Albert Einstein was born, we load data into Spark using the following query:"
   ]
  },
  {
   "cell_type": "code",
   "execution_count": 4,
   "metadata": {
    "collapsed": false,
    "deletable": true,
    "editable": true
   },
   "outputs": [
    {
     "name": "stdout",
     "output_type": "stream",
     "text": [
      "+--------------------+--------------------+-----------+--------+-----+\n",
      "|                  id|             subject|  predicate|  object|value|\n",
      "+--------------------+--------------------+-----------+--------+-----+\n",
      "|<id_qe04ts_oyl_27...|<Simon_Milton_(po...|<wasBornIn>|<London>| null|\n",
      "+--------------------+--------------------+-----------+--------+-----+\n",
      "only showing top 1 row\n",
      "\n"
     ]
    }
   ],
   "source": [
    "born_city_df = df.where(\"predicate == '<wasBornIn>' AND object == '<London>'\")\n",
    "born_city_df.show(1)"
   ]
  },
  {
   "cell_type": "code",
   "execution_count": 7,
   "metadata": {
    "collapsed": false,
    "deletable": true,
    "editable": true
   },
   "outputs": [
    {
     "name": "stdout",
     "output_type": "stream",
     "text": [
      "+--------------------+-----------------+-----------+------+-----+\n",
      "|                  id|          subject|  predicate|object|value|\n",
      "+--------------------+-----------------+-----------+------+-----+\n",
      "|<id_tiwmcu_oyl_zi...|<Albert_Einstein>|<wasBornIn>| <Ulm>| null|\n",
      "+--------------------+-----------------+-----------+------+-----+\n",
      "\n"
     ]
    }
   ],
   "source": [
    "born_city_df.where(\"subject = '<Albert_Einstein>'\").show()"
   ]
  },
  {
   "cell_type": "markdown",
   "metadata": {
    "deletable": true,
    "editable": true
   },
   "source": [
    "You may wonder how one would know whether to use the predicate '&lt;wasBornIn&gt;' or '&lt;was_born_in&gt;' and subject '&lt;Albert_Einstein&gt;' or '&lt;AlbertEinstein&gt;'. For YAGO subjects (and objects), the naming should be aligned with Wikipedia. For example, Albert Einstein's wiki is: https://en.wikipedia.org/wiki/Albert_Einstein and you can see it is 'Albert_Einstein' at the end. \n",
    "\n",
    "For predicates, you can get the \"property\" list from the [yago web interface](https://gate.d5.mpi-inf.mpg.de/webyagospotlx/WebInterface?L01=%3Fx&L0R=%3CwasBornIn%3E&L02=%3Fc&L0T=&L03=&L0L=&L04=&L05=&L11=&L1R=&L12=&L1T=&L13=&L1L=&L14=&L15=&L21=&L2R=&L22=&L2T=&L23=&L2L=&L24=&L25=&L31=&L3R=&L32=&L3T=&L33=&L3L=&L34=&L35=&L41=&L4R=&L42=&L4T=&L43=&L4L=&L44=&L45=). Try different queries with this web interface query to understand more how to query YAGO."
   ]
  },
  {
   "cell_type": "markdown",
   "metadata": {
    "deletable": true,
    "editable": true
   },
   "source": [
    "## 0.5 Simple motif example\n",
    "\n",
    "In this part of the homework, you are required to use **motif queries** to find out answers to the above four questions. Here is an example of a motif query to find out \"Which city was Albert Einstein born in?\" using a motif query instead of a SQL query:"
   ]
  },
  {
   "cell_type": "code",
   "execution_count": 8,
   "metadata": {
    "collapsed": true,
    "deletable": true,
    "editable": true
   },
   "outputs": [],
   "source": [
    "sel_df = born_city_df.select(\"subject\", \"object\", \"predicate\")\n",
    "born_e = sel_df.withColumnRenamed(\"subject\",\"src\")\\ # e = edges\n",
    "            .withColumnRenamed(\"object\",\"dst\") \\\n",
    "            .distinct()\n",
    "born_s = sel_df.select(\"subject\")\\ # s = subject\n",
    "            .withColumnRenamed(\"subject\",\"id\")\\\n",
    "            .distinct()\n",
    "born_o = sel_df.select(\"object\")\\ # o = object\n",
    "            .withColumnRenamed(\"object\",\"id\")\\\n",
    "            .distinct()"
   ]
  },
  {
   "cell_type": "code",
   "execution_count": 9,
   "metadata": {
    "collapsed": false,
    "deletable": true,
    "editable": true
   },
   "outputs": [
    {
     "name": "stdout",
     "output_type": "stream",
     "text": [
      "+-------------------+-------+\n",
      "|             person|   city|\n",
      "+-------------------+-------+\n",
      "|[<Albert_Einstein>]|[<Ulm>]|\n",
      "+-------------------+-------+\n",
      "\n"
     ]
    }
   ],
   "source": [
    "from graphframes import *\n",
    "\n",
    "v0 = born_s.unionAll(born_o).distinct()\n",
    "e0 = born_e.distinct()\n",
    "\n",
    "g0 = GraphFrame(v0,e0)\n",
    "\n",
    "q0 = g0.find(\"(person)-[]-> (city)\")\\ # definition of person and city\n",
    "        .where(\"person.id = '<Albert_Einstein>'\") # .id defined in born_s\n",
    "    \n",
    "q0.show()"
   ]
  },
  {
   "cell_type": "markdown",
   "metadata": {
    "deletable": true,
    "editable": true
   },
   "source": [
    "## 0.6 Some useful tips\n",
    "\n",
    "### Get a subset of YAGO database\n",
    "YAGO database is large, so don't try to load the entire database into a dataframe and then query it. If you do this, you will find out that you won't be even able to execute `df.take(1)`. Instead, you have to use Spark sql commands or `df.where` to get only a subset of the data that you need. This would work.\n",
    "\n",
    "### Try the queries in the YAGO web interface first\n",
    "It is sometimes tricky to get the right \"subject\", \"predicate\" and \"object\". It is easier if you start from [yago web interface](https://gate.d5.mpi-inf.mpg.de/webyagospotlx/WebInterface?L01=%3Fx&L0R=%3CwasBornIn%3E&L02=%3Fc&L0T=&L03=&L0L=&L04=&L05=&L11=&L1R=&L12=&L1T=&L13=&L1L=&L14=&L15=&L21=&L2R=&L22=&L2T=&L23=&L2L=&L24=&L25=&L31=&L3R=&L32=&L3T=&L33=&L3L=&L34=&L35=&L41=&L4R=&L42=&L4T=&L43=&L4L=&L44=&L45=) rather than directly querying in PySpark. Once your query works, then you can convert your queries to Pyspark code. Note that sometimes the web version of object/subject code may be different from what you need to type here. For example, company code is &lt;wordnet_company_108058098&gt; when you do the query here but when you do it via the web interface it is &lt;wordnet company 108058098&gt;. Also, it is possible that the query results from the web is different from here. This may because the YAGO database hosted at our LSE server is different from the one accessed via the web interface.\n",
    "\n",
    "### Be patient and don't do this exercise in the last minute\n",
    "Some trial and error is needed to get the query right and it may take a long time to get the result for a query. Also, our LSE server may get overloaded if many of you try access it at the same time. For these reasons, we advise you not to wait to work on this exercise just before the submission deadline. "
   ]
  },
  {
   "cell_type": "markdown",
   "metadata": {
    "deletable": true,
    "editable": true
   },
   "source": [
    "## 1) Politicians who are also scientists"
   ]
  },
  {
   "cell_type": "code",
   "execution_count": 15,
   "metadata": {
    "collapsed": false,
    "deletable": true,
    "editable": true
   },
   "outputs": [
    {
     "name": "stdout",
     "output_type": "stream",
     "text": [
      "+--------------------+--------------------+---------+--------------------+-----+\n",
      "|                  id|             subject|predicate|              object|value|\n",
      "+--------------------+--------------------+---------+--------------------+-----+\n",
      "|<id_jvwk4m_88c_1k...|  <William_D._Swart>| rdf:type|<wordnet_politici...| null|\n",
      "|<id_rygt0w_88c_1k...| <Daniel_Zimmermann>| rdf:type|<wordnet_politici...| null|\n",
      "|<id_1jhv5fn_88c_1...|<James_Fairman_Fi...| rdf:type|<wordnet_politici...| null|\n",
      "|<id_17obfyw_88c_1...|   <William_A._Mott>| rdf:type|<wordnet_politici...| null|\n",
      "|<id_1g0o0ur_88c_1...|<Anthony_Young,_B...| rdf:type|<wordnet_politici...| null|\n",
      "+--------------------+--------------------+---------+--------------------+-----+\n",
      "only showing top 5 rows\n",
      "\n"
     ]
    }
   ],
   "source": [
    "pol_df = df.where(\"predicate == 'rdf:type' AND object == '<wordnet_politician_110451263>'\")\n",
    "pol_df.show(5)"
   ]
  },
  {
   "cell_type": "code",
   "execution_count": 14,
   "metadata": {
    "collapsed": false,
    "deletable": true,
    "editable": true
   },
   "outputs": [
    {
     "name": "stdout",
     "output_type": "stream",
     "text": [
      "+----+--------------------+---------+--------------------+-----+\n",
      "|  id|             subject|predicate|              object|value|\n",
      "+----+--------------------+---------+--------------------+-----+\n",
      "|null|         <René_Thom>| rdf:type|<wordnet_scientis...| null|\n",
      "|null|    <Paul_A._Catlin>| rdf:type|<wordnet_scientis...| null|\n",
      "|null|<Waldemar_Christo...| rdf:type|<wordnet_scientis...| null|\n",
      "|null|   <Karl_von_Frisch>| rdf:type|<wordnet_scientis...| null|\n",
      "|null|<Edward_Robert_Ha...| rdf:type|<wordnet_scientis...| null|\n",
      "+----+--------------------+---------+--------------------+-----+\n",
      "only showing top 5 rows\n",
      "\n"
     ]
    }
   ],
   "source": [
    "scientist_df = df.where(\"predicate == 'rdf:type' AND object == '<wordnet_scientist_110560637>'\")\n",
    "scientist_df.show(5)"
   ]
  },
  {
   "cell_type": "code",
   "execution_count": 20,
   "metadata": {
    "collapsed": true,
    "deletable": true,
    "editable": true
   },
   "outputs": [],
   "source": [
    "# politician dataframe\n",
    "pol_df1 = pol_df.select(\"subject\", \"object\", \"predicate\")\n",
    "\n",
    "pol_e = pol_df1.withColumnRenamed(\"subject\", \"src\")\\\n",
    "            .withColumnRenamed(\"object\", \"dst\")\\\n",
    "            .distinct()\n",
    "\n",
    "pol_o = pol_df1.select(\"object\").withColumnRenamed(\"object\", \"id\").distinct()\n",
    "pol_s = pol_df1.select(\"subject\").withColumnRenamed(\"subject\", \"id\").distinct()     \n",
    "\n",
    "\n",
    "# scientist dataframe\n",
    "sci_df1 = scientist_df.select(\"subject\", \"object\", \"predicate\")\n",
    "\n",
    "sci_e = sci_df1.withColumnRenamed(\"subject\", \"src\")\\\n",
    "            .withColumnRenamed(\"object\", \"dst\")\\\n",
    "            .distinct()\n",
    "sci_o = sci_df1.select(\"object\").withColumnRenamed(\"object\", \"id\").distinct()\n",
    "sci_s = sci_df1.select(\"subject\").withColumnRenamed(\"subject\", \"id\").distinct()  "
   ]
  },
  {
   "cell_type": "code",
   "execution_count": 24,
   "metadata": {
    "collapsed": false,
    "deletable": true,
    "editable": true
   },
   "outputs": [
    {
     "name": "stdout",
     "output_type": "stream",
     "text": [
      "+--------------------+--------------------+--------------------+\n",
      "|              person|          politician|           scientist|\n",
      "+--------------------+--------------------+--------------------+\n",
      "|    [<Anton_Crihan>]|[<wordnet_politic...|[<wordnet_scienti...|\n",
      "|   [<Haroldo_Rodas>]|[<wordnet_politic...|[<wordnet_scienti...|\n",
      "|[<Håvard_Alstadhe...|[<wordnet_politic...|[<wordnet_scienti...|\n",
      "| [<Michael_Zucchet>]|[<wordnet_politic...|[<wordnet_scienti...|\n",
      "|[<de/Markus_Welser>]|[<wordnet_politic...|[<wordnet_scienti...|\n",
      "|[<Auguste_Scheure...|[<wordnet_politic...|[<wordnet_scienti...|\n",
      "|[<Marcus_Terentiu...|[<wordnet_politic...|[<wordnet_scienti...|\n",
      "|      [<Guy_Quaden>]|[<wordnet_politic...|[<wordnet_scienti...|\n",
      "|[<Sebastião_José_...|[<wordnet_politic...|[<wordnet_scienti...|\n",
      "|[<Stanislao_Canni...|[<wordnet_politic...|[<wordnet_scienti...|\n",
      "|[<Edward_George,_...|[<wordnet_politic...|[<wordnet_scienti...|\n",
      "|[<Frederic_Mishkin>]|[<wordnet_politic...|[<wordnet_scienti...|\n",
      "|[<pl/Jan_Jakub_Ko...|[<wordnet_politic...|[<wordnet_scienti...|\n",
      "|    [<Curt_Thesing>]|[<wordnet_politic...|[<wordnet_scienti...|\n",
      "|    [<Kåre_Willoch>]|[<wordnet_politic...|[<wordnet_scienti...|\n",
      "|[<Luis_Eduardo_Ga...|[<wordnet_politic...|[<wordnet_scienti...|\n",
      "|  [<Raghuram_Rajan>]|[<wordnet_politic...|[<wordnet_scienti...|\n",
      "|[<Charles_Albert_...|[<wordnet_politic...|[<wordnet_scienti...|\n",
      "|       [<Naim_Talu>]|[<wordnet_politic...|[<wordnet_scienti...|\n",
      "|[<de/Arūnas_Štaras>]|[<wordnet_politic...|[<wordnet_scienti...|\n",
      "+--------------------+--------------------+--------------------+\n",
      "only showing top 20 rows\n",
      "\n"
     ]
    }
   ],
   "source": [
    "from graphframes import *\n",
    "\n",
    "v0  = pol_s.unionAll(pol_o).unionAll(sci_s).unionAll(sci_o).distinct()\n",
    "e0 = pol_e.unionAll(sci_e).distinct()\n",
    "\n",
    "g0 = GraphFrame(v0,e0)\n",
    "\n",
    "q0 = g0.find(\"(person)-[]-> (politician); (person) -[]-> (scientist)\")\\\n",
    "        .where(\"politician.id = '<wordnet_politician_110451263>' AND scientist.id = '<wordnet_scientist_110560637>'\")\n",
    "    \n",
    "q0.show()"
   ]
  },
  {
   "cell_type": "markdown",
   "metadata": {
    "deletable": true,
    "editable": true
   },
   "source": [
    "## 2) Companies whose founders were born in London"
   ]
  },
  {
   "cell_type": "code",
   "execution_count": 27,
   "metadata": {
    "collapsed": false,
    "deletable": true,
    "editable": true,
    "scrolled": true
   },
   "outputs": [
    {
     "name": "stdout",
     "output_type": "stream",
     "text": [
      "+----+--------------------+---------+--------------------+-----+\n",
      "|  id|             subject|predicate|              object|value|\n",
      "+----+--------------------+---------+--------------------+-----+\n",
      "|null|<Gujarat_Gas_Comp...| rdf:type|<wordnet_company_...| null|\n",
      "|null|<United_States_He...| rdf:type|<wordnet_company_...| null|\n",
      "|null|           <Laidlaw>| rdf:type|<wordnet_company_...| null|\n",
      "|null|<de/Aastra_Deutsc...| rdf:type|<wordnet_company_...| null|\n",
      "|null|  <Bridgespan_Group>| rdf:type|<wordnet_company_...| null|\n",
      "+----+--------------------+---------+--------------------+-----+\n",
      "only showing top 5 rows\n",
      "\n"
     ]
    }
   ],
   "source": [
    "company_df = df.where(\"predicate == 'rdf:type' AND object == '<wordnet_company_108058098>'\")\n",
    "company_df.show(5)"
   ]
  },
  {
   "cell_type": "code",
   "execution_count": 28,
   "metadata": {
    "collapsed": false,
    "deletable": true,
    "editable": true
   },
   "outputs": [
    {
     "name": "stdout",
     "output_type": "stream",
     "text": [
      "+--------------------+------------+---------+--------------------+-----+\n",
      "|                  id|     subject|predicate|              object|value|\n",
      "+--------------------+------------+---------+--------------------+-----+\n",
      "|<id_1wn4mz8_1gi_1...|   <Local_H>|<created>|     <'99–'00_Demos>| null|\n",
      "|<id_zilvmt_1gi_1v...|       <WWE>|<created>|<The_Wrestling_Al...| null|\n",
      "|<id_1qv3mb_1gi_1o...|    <Konami>|<created>|    <Frogger_Beyond>| null|\n",
      "|<id_148brr_1gi_10...|<HAM_(band)>|<created>|    <Buffalo_Virgin>| null|\n",
      "|<id_1b0pe0c_1gi_z...|  <Deerhoof>|<created>|          <Halfbird>| null|\n",
      "+--------------------+------------+---------+--------------------+-----+\n",
      "only showing top 5 rows\n",
      "\n"
     ]
    }
   ],
   "source": [
    "founder_df = df.where(\"predicate == '<created>'\")\n",
    "founder_df.show(5)"
   ]
  },
  {
   "cell_type": "code",
   "execution_count": 30,
   "metadata": {
    "collapsed": false,
    "deletable": true,
    "editable": true
   },
   "outputs": [
    {
     "name": "stdout",
     "output_type": "stream",
     "text": [
      "+--------------------+--------------------+-----------+--------+-----+\n",
      "|                  id|             subject|  predicate|  object|value|\n",
      "+--------------------+--------------------+-----------+--------+-----+\n",
      "|<id_qe04ts_oyl_27...|<Simon_Milton_(po...|<wasBornIn>|<London>| null|\n",
      "|<id_fybnjg_oyl_27...|     <Stuart_Rogers>|<wasBornIn>|<London>| null|\n",
      "|<id_8mucii_oyl_27...|        <Nic_Sadler>|<wasBornIn>|<London>| null|\n",
      "|<id_s35ycw_oyl_27...|    <Joan_Orenstein>|<wasBornIn>|<London>| null|\n",
      "|<id_osz6a8_oyl_27...|      <Pen_Tennyson>|<wasBornIn>|<London>| null|\n",
      "+--------------------+--------------------+-----------+--------+-----+\n",
      "only showing top 5 rows\n",
      "\n"
     ]
    }
   ],
   "source": [
    "birth_df = df.where(\"predicate == '<wasBornIn>' AND object == '<London>'\")\n",
    "birth_df.show(5)"
   ]
  },
  {
   "cell_type": "code",
   "execution_count": 31,
   "metadata": {
    "collapsed": true,
    "deletable": true,
    "editable": true
   },
   "outputs": [],
   "source": [
    "# founder dataframe\n",
    "founder_df1 = founder_df.select(\"subject\", \"object\", \"predicate\")\n",
    "\n",
    "fo_e = founder_df1.withColumnRenamed(\"subject\", \"src\")\\\n",
    "            .withColumnRenamed(\"object\", \"dst\")\\\n",
    "            .distinct()\n",
    "\n",
    "fo_s = founder_df1.select(\"subject\").withColumnRenamed(\"subject\", \"id\").distinct()  \n",
    "fo_o = founder_df1.select(\"object\").withColumnRenamed(\"object\", \"id\").distinct()\n",
    "\n",
    "# company dataframe\n",
    "company_df1 = company_df.select(\"subject\", \"object\", \"predicate\")\n",
    "\n",
    "co_e = company_df1.withColumnRenamed(\"subject\", \"src\")\\\n",
    "            .withColumnRenamed(\"object\", \"dst\")\\\n",
    "            .distinct()\n",
    "\n",
    "co_s = company_df1.select(\"subject\").withColumnRenamed(\"subject\", \"id\").distinct()     \n",
    "co_o = company_df1.select(\"object\").withColumnRenamed(\"object\", \"id\").distinct()\n",
    "\n",
    "# London birth dataframe\n",
    "birth_df1 = birth_df.select(\"subject\", \"object\", \"predicate\")\n",
    "\n",
    "bi_e = birth_df1.withColumnRenamed(\"subject\", \"src\")\\\n",
    "            .withColumnRenamed(\"object\", \"dst\")\\\n",
    "            .distinct()\n",
    "\n",
    "bi_s = birth_df1.select(\"subject\").distinct().withColumnRenamed(\"subject\", \"id\").distinct()  \n",
    "bi_o = birth_df1.select(\"object\").distinct().withColumnRenamed(\"subject\", \"id\").distinct()  "
   ]
  },
  {
   "cell_type": "code",
   "execution_count": 40,
   "metadata": {
    "collapsed": false,
    "deletable": true,
    "editable": true
   },
   "outputs": [
    {
     "name": "stdout",
     "output_type": "stream",
     "text": [
      "+--------------------+--------------------+--------------------+----------+\n",
      "|             founder|             company|         companytype|birthplace|\n",
      "+--------------------+--------------------+--------------------+----------+\n",
      "|    [<Danny_Haynes>]|[<Sealy_Corporati...|[<wordnet_company...|[<London>]|\n",
      "|  [<Virginia_Woolf>]|   [<Hogarth_Press>]|[<wordnet_company...|[<London>]|\n",
      "|[<Henry_Herbert_C...|       [<Matchless>]|[<wordnet_company...|[<London>]|\n",
      "|    [<Simon_Cowell>]|            [<Syco>]|[<wordnet_company...|[<London>]|\n",
      "|    [<Simon_Cowell>]|      [<Syco_Music>]|[<wordnet_company...|[<London>]|\n",
      "|  [<Gerry_Anderson>]|        [<AP_Films>]|[<wordnet_company...|[<London>]|\n",
      "|  [<Paul_Oakenfold>]|[<Perfecto_Records>]|[<wordnet_company...|[<London>]|\n",
      "|     [<Kit_Lambert>]|   [<Track_Records>]|[<wordnet_company...|[<London>]|\n",
      "|     [<Wally_Olins>]|     [<Wolff_Olins>]|[<wordnet_company...|[<London>]|\n",
      "|  [<Pete_Townshend>]|[<Eel_Pie_Publish...|[<wordnet_company...|[<London>]|\n",
      "|  [<Michael_Lynton>]|[<Disney_Publishi...|[<wordnet_company...|[<London>]|\n",
      "|   [<Charles_Rolls>]|[<Rolls-Royce_Hol...|[<wordnet_company...|[<London>]|\n",
      "|   [<Charles_Rolls>]|[<Rolls-Royce_Lim...|[<wordnet_company...|[<London>]|\n",
      "| [<Chris_Blackwell>]|  [<Island_Records>]|[<wordnet_company...|[<London>]|\n",
      "| [<Chris_Blackwell>]|[<4th_&_B'way_Rec...|[<wordnet_company...|[<London>]|\n",
      "|   [<Peter_Rehberg>]|   [<Editions_Mego>]|[<wordnet_company...|[<London>]|\n",
      "|   [<Peter_Rehberg>]|    [<Mego_(label)>]|[<wordnet_company...|[<London>]|\n",
      "|     [<David_Harel>]|         [<I-Logix>]|[<wordnet_company...|[<London>]|\n",
      "|      [<Henry_Wood>]|[<King_Arthur_Flo...|[<wordnet_company...|[<London>]|\n",
      "|      [<Henry_Wood>]|[<Wolsey_(clothin...|[<wordnet_company...|[<London>]|\n",
      "+--------------------+--------------------+--------------------+----------+\n",
      "only showing top 20 rows\n",
      "\n"
     ]
    }
   ],
   "source": [
    "from graphframes import *\n",
    "\n",
    "v0 = fo_s.unionAll(fo_o).unionAll(co_s).unionAll(co_o).unionAll(bi_s).unionAll(bi_o).distinct()\n",
    "e0 = fo_e.unionAll(co_e).unionAll(bi_e).distinct()\n",
    "\n",
    "g0 = GraphFrame(v0,e0)\n",
    "\n",
    "q0 = g0.find(\"(founder) -[]-> (company); (company) -[]-> (companytype); (founder) -[]-> (birthplace)\")\\\n",
    "        .where(\"companytype.id = '<wordnet_company_108058098>' AND birthplace.id = '<London>'\")\n",
    "\n",
    "q0.show()"
   ]
  },
  {
   "cell_type": "markdown",
   "metadata": {
    "deletable": true,
    "editable": true
   },
   "source": [
    "## 3) Writers who have won a Nobel Prize (in any discipline)"
   ]
  },
  {
   "cell_type": "code",
   "execution_count": 42,
   "metadata": {
    "collapsed": false,
    "deletable": true,
    "editable": true
   },
   "outputs": [
    {
     "name": "stdout",
     "output_type": "stream",
     "text": [
      "+----+-------------------+---------+--------------------+-----+\n",
      "|  id|            subject|predicate|              object|value|\n",
      "+----+-------------------+---------+--------------------+-----+\n",
      "|null|        <Pat_Frank>| rdf:type|<wordnet_writer_1...| null|\n",
      "|null| <fr/Robert_Davreu>| rdf:type|<wordnet_writer_1...| null|\n",
      "|null|    <Anton_Ingolič>| rdf:type|<wordnet_writer_1...| null|\n",
      "|null|<Salomon_Isacovici>| rdf:type|<wordnet_writer_1...| null|\n",
      "|null|  <nl/Amand_de_Vos>| rdf:type|<wordnet_writer_1...| null|\n",
      "+----+-------------------+---------+--------------------+-----+\n",
      "only showing top 5 rows\n",
      "\n"
     ]
    }
   ],
   "source": [
    "writer_df = df.where(\"predicate == 'rdf:type' AND object == '<wordnet_writer_110794014>'\")\n",
    "writer_df.show(5)"
   ]
  },
  {
   "cell_type": "code",
   "execution_count": 41,
   "metadata": {
    "collapsed": false,
    "deletable": true,
    "editable": true
   },
   "outputs": [
    {
     "name": "stdout",
     "output_type": "stream",
     "text": [
      "+--------------------+-------------+-------------+--------------------+-----+\n",
      "|                  id|      subject|    predicate|              object|value|\n",
      "+--------------------+-------------+-------------+--------------------+-----+\n",
      "|<id_14rzeie_ab2_1...|<Gary_Becker>|<hasWonPrize>|<Nobel_Prize_in_E...| null|\n",
      "+--------------------+-------------+-------------+--------------------+-----+\n",
      "only showing top 1 row\n",
      "\n"
     ]
    }
   ],
   "source": [
    "prize_df = df.where(\"predicate == '<hasWonPrize>' AND object LIKE '%Nobel_Prize_in%'\")\n",
    "prize_df.show(5)"
   ]
  },
  {
   "cell_type": "code",
   "execution_count": 43,
   "metadata": {
    "collapsed": true,
    "deletable": true,
    "editable": true
   },
   "outputs": [],
   "source": [
    "# Nobel prize dataframe\n",
    "prize_df1 = prize_df.select(\"subject\", \"object\", \"predicate\")\n",
    "\n",
    "pr_e = prize_df1.withColumnRenamed(\"subject\", \"src\")\\\n",
    "            .withColumnRenamed(\"object\", \"dst\")\\\n",
    "            .distinct()\n",
    "\n",
    "pr_s = prize_df1.select(\"subject\").withColumnRenamed(\"subject\", \"id\").distinct()      \n",
    "pr_o = prize_df1.select(\"object\").withColumnRenamed(\"object\", \"id\").distinct()  \n",
    "\n",
    "# Writer\n",
    "writer_df1 = writer_df.select(\"subject\", \"object\", \"predicate\")\n",
    "\n",
    "wr_e = writer_df1.withColumnRenamed(\"subject\", \"src\")\\\n",
    "            .withColumnRenamed(\"object\", \"dst\")\\\n",
    "            .distinct()\n",
    "\n",
    "wr_s = writer_df1.select(\"subject\").withColumnRenamed(\"subject\", \"id\").distinct()  \n",
    "wr_o = writer_df1.select(\"object\").withColumnRenamed(\"object\", \"id\").distinct()  "
   ]
  },
  {
   "cell_type": "code",
   "execution_count": null,
   "metadata": {
    "collapsed": true,
    "deletable": true,
    "editable": true
   },
   "outputs": [],
   "source": [
    "from graphframes import *\n",
    "\n",
    "v0 = pr_s.unionAll(pr_o).unionAll(wr_o).unionAll(wr_s).distinct()\n",
    "e0 = pr_e.unionAll(wr_e).distinct()\n",
    "\n",
    "g0 = GraphFrame(v0,e0)\n",
    "\n",
    "q0 = g0.find(\"(person) -[]-> (prize); (person) -[]-> (writer)\")\\\n",
    "        .where(\"prize.id LIKE '%Nobel_Prize_in%' AND writer.id = '<wordnet_writer_110794014>'\")\n",
    "    \n",
    "q0.show()"
   ]
  },
  {
   "cell_type": "markdown",
   "metadata": {
    "deletable": true,
    "editable": true
   },
   "source": [
    "## 4) Nobel prize winners who were born in the same city as their spouses"
   ]
  },
  {
   "cell_type": "code",
   "execution_count": 7,
   "metadata": {
    "collapsed": false,
    "deletable": true,
    "editable": true
   },
   "outputs": [
    {
     "name": "stdout",
     "output_type": "stream",
     "text": [
      "+--------------------+--------------+-------------+--------------+-----+\n",
      "|                  id|       subject|    predicate|        object|value|\n",
      "+--------------------+--------------+-------------+--------------+-----+\n",
      "|<id_6pwhk4_16x_16...|<Taha_Hussein>|<isMarriedTo>|<Hubert_Burda>| null|\n",
      "+--------------------+--------------+-------------+--------------+-----+\n",
      "only showing top 1 row\n",
      "\n"
     ]
    }
   ],
   "source": [
    "spouse_df = df.where(\"predicate == '<isMarriedTo>'\")\n",
    "spouse_df.show(1)"
   ]
  },
  {
   "cell_type": "code",
   "execution_count": 8,
   "metadata": {
    "collapsed": false,
    "deletable": true,
    "editable": true
   },
   "outputs": [
    {
     "name": "stdout",
     "output_type": "stream",
     "text": [
      "+--------------------+----------------+-----------+------------------+-----+\n",
      "|                  id|         subject|  predicate|            object|value|\n",
      "+--------------------+----------------+-----------+------------------+-----+\n",
      "|<id_1u855mb_oyl_1...|<Camil_Bouchard>|<wasBornIn>|<La_Tuque,_Quebec>| null|\n",
      "+--------------------+----------------+-----------+------------------+-----+\n",
      "only showing top 1 row\n",
      "\n"
     ]
    }
   ],
   "source": [
    "birth_df = df.where(\"predicate == '<wasBornIn>'\")\n",
    "birth_df.show(1)"
   ]
  },
  {
   "cell_type": "code",
   "execution_count": 6,
   "metadata": {
    "collapsed": false,
    "deletable": true,
    "editable": true
   },
   "outputs": [
    {
     "name": "stdout",
     "output_type": "stream",
     "text": [
      "+--------------------+--------------------+-------------+--------------------+-----+\n",
      "|                  id|             subject|    predicate|              object|value|\n",
      "+--------------------+--------------------+-------------+--------------------+-----+\n",
      "|<id_logng6_ab2_1c...|    <Hartmut_Michel>|<hasWonPrize>|<Nobel_Prize_in_C...| null|\n",
      "|<id_wshmev_ab2_1r...|        <Paul_Heyse>|<hasWonPrize>|<Nobel_Prize_in_L...| null|\n",
      "|<id_pqb1rd_ab2_j6...|      <John_Macleod>|<hasWonPrize>|<Nobel_Prize_in_P...| null|\n",
      "|<id_1nimscd_ab2_1...|  <William_Lipscomb>|<hasWonPrize>|<Nobel_Prize_in_C...| null|\n",
      "|<id_1p436y6_ab2_1...|<Arthur_Lewis_(ec...|<hasWonPrize>|<Nobel_Prize_in_E...| null|\n",
      "+--------------------+--------------------+-------------+--------------------+-----+\n",
      "only showing top 5 rows\n",
      "\n"
     ]
    }
   ],
   "source": [
    "prize_df = df.where(\"predicate == '<hasWonPrize>' AND object LIKE '%Nobel_Prize_in%'\")\n",
    "prize_df.show(5)"
   ]
  },
  {
   "cell_type": "code",
   "execution_count": 9,
   "metadata": {
    "collapsed": true,
    "deletable": true,
    "editable": true
   },
   "outputs": [],
   "source": [
    "# Nobel prize dataframe\n",
    "prize_df1 = prize_df.select(\"subject\", \"object\", \"predicate\")\n",
    "\n",
    "pr_e = prize_df1.withColumnRenamed(\"subject\", \"src\")\\\n",
    "            .withColumnRenamed(\"object\", \"dst\")\\\n",
    "            .distinct()\n",
    "\n",
    "pr_s = prize_df1.select(\"subject\").distinct().withColumnRenamed(\"subject\", \"id\").distinct()       \n",
    "pr_o = prize_df1.select(\"object\").distinct().withColumnRenamed(\"object\", \"id\").distinct()  \n",
    "\n",
    "# Birthplace\n",
    "birth_df1 = birth_df.select(\"subject\", \"object\", \"predicate\")\n",
    "\n",
    "bi_e = birth_df1.withColumnRenamed(\"subject\", \"src\")\\\n",
    "            .withColumnRenamed(\"object\", \"dst\")\\\n",
    "            .distinct()\n",
    "\n",
    "bi_s = birth_df1.select(\"subject\").withColumnRenamed(\"subject\", \"id\").distinct() \n",
    "bi_o = birth_df1.select(\"object\").withColumnRenamed(\"object\", \"id\").distinct()  \n",
    "\n",
    "# Married to\n",
    "spouse_df1 = spouse_df.select(\"subject\", \"object\", \"predicate\")\n",
    "\n",
    "sp_e = spouse_df1.withColumnRenamed(\"subject\", \"src\")\\\n",
    "            .withColumnRenamed(\"object\", \"dst\")\\\n",
    "            .distinct()\n",
    "\n",
    "sp_s = spouse_df1.select(\"subject\").withColumnRenamed(\"subject\", \"id\").distinct() \n",
    "sp_o = spouse_df1.select(\"object\").withColumnRenamed(\"object\", \"id\").distinct()  "
   ]
  },
  {
   "cell_type": "code",
   "execution_count": 12,
   "metadata": {
    "collapsed": false,
    "deletable": true,
    "editable": true
   },
   "outputs": [
    {
     "name": "stdout",
     "output_type": "stream",
     "text": [
      "+--------------------+--------------------+--------------------+--------------------+----------+\n",
      "|              winner|               prize|             spouse1|             spouse2|birthplace|\n",
      "+--------------------+--------------------+--------------------+--------------------+----------+\n",
      "|[<Carl_Ferdinand_...|[<Nobel_Prize_in_...|[<Carl_Ferdinand_...|      [<Gerty_Cori>]|[<Prague>]|\n",
      "|[<Frédéric_Joliot...|[<Nobel_Prize_in_...|[<Frédéric_Joliot...|[<Irène_Joliot-Cu...| [<Paris>]|\n",
      "|[<Irène_Joliot-Cu...|[<Nobel_Prize_in_...|[<Irène_Joliot-Cu...|[<Frédéric_Joliot...| [<Paris>]|\n",
      "|[<Irène_Joliot-Cu...|[<Nobel_Prize_in_...|[<Irène_Joliot-Cu...|[<Frédéric_Joliot...| [<Paris>]|\n",
      "|   [<Harold_Pinter>]|[<Nobel_Prize_in_...|   [<Harold_Pinter>]|  [<Antonia_Fraser>]|[<London>]|\n",
      "|    [<Václav_Havel>]|[<Nobel_Prize_in_...|    [<Václav_Havel>]|    [<Olga_Havlová>]|[<Prague>]|\n",
      "|    [<Václav_Havel>]|[<Nobel_Prize_in_...|    [<Václav_Havel>]|    [<Olga_Havlová>]|[<Prague>]|\n",
      "|      [<Gerty_Cori>]|[<Nobel_Prize_in_...|      [<Gerty_Cori>]|[<Carl_Ferdinand_...|[<Prague>]|\n",
      "+--------------------+--------------------+--------------------+--------------------+----------+\n",
      "\n"
     ]
    }
   ],
   "source": [
    "from graphframes import *\n",
    "\n",
    "v0 = pr_s.unionAll(pr_o).unionAll(sp_o).unionAll(sp_s).unionAll(bi_s).unionAll(bi_o).distinct()\n",
    "e0 = pr_e.unionAll(sp_e).unionAll(bi_e).distinct()\n",
    "\n",
    "g0 = GraphFrame(v0,e0)\n",
    "\n",
    "q0 = g0.find(\"(winner) -[]-> (prize); (spouse1) -[]-> (spouse2); (spouse1) -[]-> (birthplace); (spouse2) -[]-> (birthplace)\")\\\n",
    "        .where(\"winner.id = spouse1.id AND prize.id LIKE '%Nobel_Prize_in%' AND birthplace.id NOT LIKE '%Nobel_Prize_in%'\") # AND prize.id = '<Nobel_Prize>'\n",
    "    \n",
    "q0.show()"
   ]
  }
 ],
 "metadata": {
  "anaconda-cloud": {},
  "kernelspec": {
   "display_name": "Python 3",
   "language": "python",
   "name": "python3"
  },
  "language_info": {
   "codemirror_mode": {
    "name": "ipython",
    "version": 3
   },
   "file_extension": ".py",
   "mimetype": "text/x-python",
   "name": "python",
   "nbconvert_exporter": "python",
   "pygments_lexer": "ipython3",
   "version": "3.6.3"
  }
 },
 "nbformat": 4,
 "nbformat_minor": 1
}
